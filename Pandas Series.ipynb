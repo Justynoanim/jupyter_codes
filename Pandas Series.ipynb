{
 "cells": [
  {
   "cell_type": "code",
   "execution_count": 1,
   "id": "2a88b0d2",
   "metadata": {},
   "outputs": [],
   "source": [
    "import pandas as pd"
   ]
  },
  {
   "cell_type": "code",
   "execution_count": 2,
   "id": "01d57f8f",
   "metadata": {},
   "outputs": [],
   "source": [
    "#pandas is used to analyse, clean, explore and manipulate data"
   ]
  },
  {
   "cell_type": "code",
   "execution_count": 4,
   "id": "fcc8d5a2",
   "metadata": {},
   "outputs": [
    {
     "name": "stdout",
     "output_type": "stream",
     "text": [
      "      car Price\n",
      "0    Benz   30M\n",
      "1   Volve  1.5M\n",
      "2  Toyota  4.7M\n"
     ]
    }
   ],
   "source": [
    "a={'car':['Benz', 'Volve', 'Toyota'], 'Price':['30M', '1.5M', '4.7M']}\n",
    "v=pd.DataFrame(a)\n",
    "print(v)\n",
    "#DataFrame"
   ]
  },
  {
   "cell_type": "code",
   "execution_count": 5,
   "id": "59023550",
   "metadata": {},
   "outputs": [],
   "source": [
    "#difference btw a series and a DataFrame"
   ]
  },
  {
   "cell_type": "code",
   "execution_count": 6,
   "id": "57003bf3",
   "metadata": {},
   "outputs": [
    {
     "data": {
      "text/plain": [
       "0         9\n",
       "1    Toyota\n",
       "2     Camry\n",
       "dtype: object"
      ]
     },
     "execution_count": 6,
     "metadata": {},
     "output_type": "execute_result"
    }
   ],
   "source": [
    "#serie\n",
    "a=[9,'Toyota', 'Camry']\n",
    "v=pd.Series(a)\n",
    "v"
   ]
  },
  {
   "cell_type": "code",
   "execution_count": 7,
   "id": "92256928",
   "metadata": {},
   "outputs": [
    {
     "data": {
      "text/plain": [
       "0     Volvo\n",
       "1    Toyota\n",
       "2     Camry\n",
       "dtype: object"
      ]
     },
     "execution_count": 7,
     "metadata": {},
     "output_type": "execute_result"
    }
   ],
   "source": [
    "a=['Volvo','Toyota', 'Camry']\n",
    "v=pd.Series(a)\n",
    "v"
   ]
  },
  {
   "cell_type": "code",
   "execution_count": 10,
   "id": "380865e9",
   "metadata": {},
   "outputs": [
    {
     "name": "stdout",
     "output_type": "stream",
     "text": [
      "Toyota\n"
     ]
    }
   ],
   "source": [
    "#How to slice \n",
    "print(a[1])"
   ]
  },
  {
   "cell_type": "code",
   "execution_count": 11,
   "id": "4c682af0",
   "metadata": {},
   "outputs": [],
   "source": [
    "#How to creat a label with index argument"
   ]
  },
  {
   "cell_type": "code",
   "execution_count": 12,
   "id": "02168eb2",
   "metadata": {},
   "outputs": [
    {
     "data": {
      "text/plain": [
       "a     Volvo\n",
       "b    Toyota\n",
       "c     Camry\n",
       "dtype: object"
      ]
     },
     "execution_count": 12,
     "metadata": {},
     "output_type": "execute_result"
    }
   ],
   "source": [
    "a=['Volvo','Toyota', 'Camry']\n",
    "v=pd.Series(a,index=['a','b','c'])\n",
    "v"
   ]
  },
  {
   "cell_type": "code",
   "execution_count": 13,
   "id": "0895ff7e",
   "metadata": {},
   "outputs": [],
   "source": [
    "import numpy as np"
   ]
  },
  {
   "cell_type": "code",
   "execution_count": 18,
   "id": "0ee9ac5f",
   "metadata": {},
   "outputs": [
    {
     "name": "stdout",
     "output_type": "stream",
     "text": [
      "['a', 'b', 'c', 'd']\n"
     ]
    },
    {
     "data": {
      "text/plain": [
       "{'a': 1, 'b': 2, 'c': 3, 'd': 4}"
      ]
     },
     "execution_count": 18,
     "metadata": {},
     "output_type": "execute_result"
    }
   ],
   "source": [
    "L=['a', 'b','c','d']\n",
    "K=[1,2,3,4,]\n",
    "op=np.array(K)\n",
    "d={'a':1,'b':2, 'c':3,'d':4}\n",
    "print(L)\n",
    "K\n",
    "op\n",
    "d"
   ]
  },
  {
   "cell_type": "code",
   "execution_count": 39,
   "id": "13b1f58c",
   "metadata": {},
   "outputs": [
    {
     "data": {
      "text/plain": [
       "1"
      ]
     },
     "execution_count": 39,
     "metadata": {},
     "output_type": "execute_result"
    }
   ],
   "source": [
    "a=pd.Series(data = K,dtype='i')\n",
    "a[0]"
   ]
  },
  {
   "cell_type": "code",
   "execution_count": 31,
   "id": "cf52c5e7",
   "metadata": {},
   "outputs": [
    {
     "data": {
      "text/plain": [
       "USA        2\n",
       "Russia     3\n",
       "Canada     1\n",
       "Nigeria    7\n",
       "dtype: int64"
      ]
     },
     "execution_count": 31,
     "metadata": {},
     "output_type": "execute_result"
    }
   ],
   "source": [
    "pd.Series([2,3,1,7], ['USA', 'Russia', 'Canada', 'Nigeria'])"
   ]
  },
  {
   "cell_type": "code",
   "execution_count": 33,
   "id": "26d5e0ac",
   "metadata": {},
   "outputs": [
    {
     "name": "stdout",
     "output_type": "stream",
     "text": [
      "USA        1\n",
      "Turkey     2\n",
      "Canada     3\n",
      "Nigeria    4\n",
      "dtype: int64\n"
     ]
    }
   ],
   "source": [
    "v=pd.Series([2,3,1,7], ['USA', 'Russia', 'Canada', 'Nigeria'])\n",
    "y=pd.Series([1,2,3,4],['USA', 'Turkey', 'Canada', 'Nigeria'])\n",
    "print(y)"
   ]
  },
  {
   "cell_type": "code",
   "execution_count": 34,
   "id": "468e936d",
   "metadata": {},
   "outputs": [
    {
     "data": {
      "text/plain": [
       "2"
      ]
     },
     "execution_count": 34,
     "metadata": {},
     "output_type": "execute_result"
    }
   ],
   "source": [
    "v['USA']"
   ]
  },
  {
   "cell_type": "code",
   "execution_count": 35,
   "id": "bcc84187",
   "metadata": {},
   "outputs": [
    {
     "data": {
      "text/plain": [
       "7"
      ]
     },
     "execution_count": 35,
     "metadata": {},
     "output_type": "execute_result"
    }
   ],
   "source": [
    "v['Nigeria']"
   ]
  },
  {
   "cell_type": "code",
   "execution_count": 40,
   "id": "99ee42db",
   "metadata": {},
   "outputs": [],
   "source": [
    "a[0]= 10"
   ]
  },
  {
   "cell_type": "code",
   "execution_count": 42,
   "id": "ba80ee08",
   "metadata": {},
   "outputs": [
    {
     "data": {
      "text/plain": [
       "2"
      ]
     },
     "execution_count": 42,
     "metadata": {},
     "output_type": "execute_result"
    }
   ],
   "source": [
    "v[0]"
   ]
  },
  {
   "cell_type": "code",
   "execution_count": 43,
   "id": "77402b5f",
   "metadata": {},
   "outputs": [],
   "source": [
    "#concatenating a list"
   ]
  },
  {
   "cell_type": "code",
   "execution_count": 44,
   "id": "67263ae9",
   "metadata": {},
   "outputs": [
    {
     "data": {
      "text/plain": [
       "Canada      4.0\n",
       "Nigeria    11.0\n",
       "Russia      NaN\n",
       "Turkey      NaN\n",
       "USA         3.0\n",
       "dtype: float64"
      ]
     },
     "execution_count": 44,
     "metadata": {},
     "output_type": "execute_result"
    }
   ],
   "source": [
    "z=y+v\n",
    "z"
   ]
  },
  {
   "cell_type": "code",
   "execution_count": 45,
   "id": "fdf83d9f",
   "metadata": {},
   "outputs": [],
   "source": [
    "#DataFrame"
   ]
  },
  {
   "cell_type": "code",
   "execution_count": null,
   "id": "5be1267e",
   "metadata": {},
   "outputs": [],
   "source": []
  }
 ],
 "metadata": {
  "kernelspec": {
   "display_name": "Python 3 (ipykernel)",
   "language": "python",
   "name": "python3"
  },
  "language_info": {
   "codemirror_mode": {
    "name": "ipython",
    "version": 3
   },
   "file_extension": ".py",
   "mimetype": "text/x-python",
   "name": "python",
   "nbconvert_exporter": "python",
   "pygments_lexer": "ipython3",
   "version": "3.9.12"
  }
 },
 "nbformat": 4,
 "nbformat_minor": 5
}
