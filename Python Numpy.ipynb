{
 "cells": [
  {
   "cell_type": "code",
   "execution_count": 2,
   "id": "5a150c32",
   "metadata": {},
   "outputs": [],
   "source": [
    "\n",
    "\n",
    "import numpy as np\n",
    "#a=np.zeros((2,3),dtype=np.float64)\n",
    "#print(a)"
   ]
  },
  {
   "cell_type": "code",
   "execution_count": 3,
   "id": "1a0e935d",
   "metadata": {},
   "outputs": [],
   "source": [
    "#a=np.array([[0,1,2],[3,4,5]], dtype=np.float64)\n",
    "#print(a)"
   ]
  },
  {
   "cell_type": "code",
   "execution_count": 4,
   "id": "0bd3bef0",
   "metadata": {},
   "outputs": [],
   "source": [
    "#b=np.arange(6,dtype=np.float64).reshape(2,3)\n",
    "#print(b)"
   ]
  },
  {
   "cell_type": "code",
   "execution_count": 5,
   "id": "4bc3fa5d",
   "metadata": {},
   "outputs": [],
   "source": [
    "#one dimensional array"
   ]
  },
  {
   "cell_type": "code",
   "execution_count": 6,
   "id": "b5e710bf",
   "metadata": {},
   "outputs": [
    {
     "data": {
      "text/plain": [
       "array([1, 2, 3])"
      ]
     },
     "execution_count": 6,
     "metadata": {},
     "output_type": "execute_result"
    }
   ],
   "source": [
    "a=np.array([1,2,3])\n",
    "a"
   ]
  },
  {
   "cell_type": "code",
   "execution_count": 7,
   "id": "092eb1fe",
   "metadata": {},
   "outputs": [
    {
     "data": {
      "text/plain": [
       "array([ 5,  7,  9, 21])"
      ]
     },
     "execution_count": 7,
     "metadata": {},
     "output_type": "execute_result"
    }
   ],
   "source": [
    "b=np.array([5,7,9, 21])\n",
    "b"
   ]
  },
  {
   "cell_type": "code",
   "execution_count": 8,
   "id": "4bf6be9e",
   "metadata": {},
   "outputs": [
    {
     "data": {
      "text/plain": [
       "array([[ 5,  7,  9, 21],\n",
       "       [ 1,  2,  3,  4]])"
      ]
     },
     "execution_count": 8,
     "metadata": {},
     "output_type": "execute_result"
    }
   ],
   "source": [
    "# Two dimensional array\n",
    "d=np.array([[5,7,9,21],[1,2,3,4]])\n",
    "d"
   ]
  },
  {
   "cell_type": "code",
   "execution_count": 9,
   "id": "37e749f0",
   "metadata": {},
   "outputs": [],
   "source": [
    "#c=np.array(2) #Zero dimensional array\n",
    "#c"
   ]
  },
  {
   "cell_type": "code",
   "execution_count": 10,
   "id": "c45c31e0",
   "metadata": {},
   "outputs": [
    {
     "data": {
      "text/plain": [
       "array([[ 5,  7,  9, 21]])"
      ]
     },
     "execution_count": 10,
     "metadata": {},
     "output_type": "execute_result"
    }
   ],
   "source": [
    "e=np.array([[5,7,9,21]])\n",
    "e"
   ]
  },
  {
   "cell_type": "code",
   "execution_count": 11,
   "id": "b767c72f",
   "metadata": {},
   "outputs": [
    {
     "ename": "AttributeError",
     "evalue": "'numpy.ndarray' object has no attribute 'ndmin'",
     "output_type": "error",
     "traceback": [
      "\u001b[1;31m---------------------------------------------------------------------------\u001b[0m",
      "\u001b[1;31mAttributeError\u001b[0m                            Traceback (most recent call last)",
      "Input \u001b[1;32mIn [11]\u001b[0m, in \u001b[0;36m<cell line: 1>\u001b[1;34m()\u001b[0m\n\u001b[1;32m----> 1\u001b[0m \u001b[38;5;28mprint\u001b[39m(\u001b[43me\u001b[49m\u001b[38;5;241;43m.\u001b[39;49m\u001b[43mndmin\u001b[49m)\n",
      "\u001b[1;31mAttributeError\u001b[0m: 'numpy.ndarray' object has no attribute 'ndmin'"
     ]
    }
   ],
   "source": [
    "print(e.ndmin)"
   ]
  },
  {
   "cell_type": "code",
   "execution_count": null,
   "id": "8a402a6a",
   "metadata": {},
   "outputs": [],
   "source": [
    "f=np.array([[[5,7,9,2,1]]])\n",
    "f"
   ]
  },
  {
   "cell_type": "code",
   "execution_count": null,
   "id": "096d4666",
   "metadata": {},
   "outputs": [],
   "source": [
    "f.ndim # checking the dimension of the array"
   ]
  },
  {
   "cell_type": "code",
   "execution_count": null,
   "id": "436cb19f",
   "metadata": {},
   "outputs": [],
   "source": [
    "g=np.array([1,2,3,4], ndmin=4)\n",
    "g.ndim"
   ]
  },
  {
   "cell_type": "code",
   "execution_count": null,
   "id": "17ee8ddd",
   "metadata": {},
   "outputs": [],
   "source": [
    "g"
   ]
  },
  {
   "cell_type": "code",
   "execution_count": null,
   "id": "0952c7e4",
   "metadata": {},
   "outputs": [],
   "source": [
    "#Array indexing"
   ]
  },
  {
   "cell_type": "code",
   "execution_count": null,
   "id": "959b4a49",
   "metadata": {},
   "outputs": [],
   "source": [
    "a=[1,2,3,4]\n",
    "a[1]"
   ]
  },
  {
   "cell_type": "code",
   "execution_count": 12,
   "id": "eca55bd3",
   "metadata": {},
   "outputs": [
    {
     "data": {
      "text/plain": [
       "[5, 6, 7, 8]"
      ]
     },
     "execution_count": 12,
     "metadata": {},
     "output_type": "execute_result"
    }
   ],
   "source": [
    "b=([[1,2,3,4], [5,6,7,8]])\n",
    "b[1]"
   ]
  },
  {
   "cell_type": "code",
   "execution_count": 13,
   "id": "69f3c88e",
   "metadata": {},
   "outputs": [
    {
     "data": {
      "text/plain": [
       "6"
      ]
     },
     "execution_count": 13,
     "metadata": {},
     "output_type": "execute_result"
    }
   ],
   "source": [
    "b[1][1]"
   ]
  },
  {
   "cell_type": "code",
   "execution_count": 14,
   "id": "5f239cbb",
   "metadata": {},
   "outputs": [
    {
     "data": {
      "text/plain": [
       "array([[[4, 2, 1, 3],\n",
       "        [3, 2, 4, 1]]])"
      ]
     },
     "execution_count": 14,
     "metadata": {},
     "output_type": "execute_result"
    }
   ],
   "source": [
    "k=np.array([[[4,2,1,3],[3,2,4,1]]])\n",
    "k"
   ]
  },
  {
   "cell_type": "code",
   "execution_count": 15,
   "id": "268e6f70",
   "metadata": {},
   "outputs": [
    {
     "data": {
      "text/plain": [
       "4"
      ]
     },
     "execution_count": 15,
     "metadata": {},
     "output_type": "execute_result"
    }
   ],
   "source": [
    "k[0][1][2]"
   ]
  },
  {
   "cell_type": "code",
   "execution_count": 16,
   "id": "0ad82fe6",
   "metadata": {},
   "outputs": [
    {
     "data": {
      "text/plain": [
       "array([[[ 1,  2,  3,  4],\n",
       "        [ 5,  6,  7,  8]],\n",
       "\n",
       "       [[ 9, 11, 12, 13],\n",
       "        [15, 21, 40, 49]]])"
      ]
     },
     "execution_count": 16,
     "metadata": {},
     "output_type": "execute_result"
    }
   ],
   "source": [
    "z=np.array([[[1,2,3,4],[5,6,7,8]],[[9,11,12,13], [15,21,40,49]]])\n",
    "z"
   ]
  },
  {
   "cell_type": "code",
   "execution_count": 17,
   "id": "abfc672b",
   "metadata": {},
   "outputs": [
    {
     "data": {
      "text/plain": [
       "12"
      ]
     },
     "execution_count": 17,
     "metadata": {},
     "output_type": "execute_result"
    }
   ],
   "source": [
    "z[1][0,2]"
   ]
  },
  {
   "cell_type": "code",
   "execution_count": 18,
   "id": "844c35d2",
   "metadata": {},
   "outputs": [
    {
     "data": {
      "text/plain": [
       "21"
      ]
     },
     "execution_count": 18,
     "metadata": {},
     "output_type": "execute_result"
    }
   ],
   "source": [
    "z[1][1,1]"
   ]
  },
  {
   "cell_type": "code",
   "execution_count": 19,
   "id": "de6a7148",
   "metadata": {},
   "outputs": [
    {
     "data": {
      "text/plain": [
       "49"
      ]
     },
     "execution_count": 19,
     "metadata": {},
     "output_type": "execute_result"
    }
   ],
   "source": [
    "z[1][1,3]"
   ]
  },
  {
   "cell_type": "code",
   "execution_count": 20,
   "id": "24d42ac2",
   "metadata": {},
   "outputs": [],
   "source": [
    "#s=np.array([[[[50,100,12,11]], [[22,31,40,51]]], ])"
   ]
  },
  {
   "cell_type": "code",
   "execution_count": 21,
   "id": "50c53a5a",
   "metadata": {},
   "outputs": [
    {
     "data": {
      "text/plain": [
       "array([[[[1, 2, 3, 4]]]])"
      ]
     },
     "execution_count": 21,
     "metadata": {},
     "output_type": "execute_result"
    }
   ],
   "source": [
    "b=np.array([1,2,3,4], ndmin=4)#ndmin to covert to any dimension like, 1,2,3,4 while ndmin to check dimension\n",
    "b"
   ]
  },
  {
   "cell_type": "code",
   "execution_count": 22,
   "id": "90ca626e",
   "metadata": {},
   "outputs": [
    {
     "data": {
      "text/plain": [
       "array([[[ 5,  7,  3, 21]],\n",
       "\n",
       "       [[ 2,  1,  3,  8]],\n",
       "\n",
       "       [[ 4,  6,  3, 81]]])"
      ]
     },
     "execution_count": 22,
     "metadata": {},
     "output_type": "execute_result"
    }
   ],
   "source": [
    "c=np.array([[[5,7,3,21]],[[2,1,3,8]],[[4,6,3,81]]])\n",
    "c"
   ]
  },
  {
   "cell_type": "code",
   "execution_count": 23,
   "id": "9c7299cb",
   "metadata": {},
   "outputs": [
    {
     "data": {
      "text/plain": [
       "array([1, 3])"
      ]
     },
     "execution_count": 23,
     "metadata": {},
     "output_type": "execute_result"
    }
   ],
   "source": [
    "c[1][0][1:-1]"
   ]
  },
  {
   "cell_type": "code",
   "execution_count": 24,
   "id": "f8b46c07",
   "metadata": {},
   "outputs": [
    {
     "data": {
      "text/plain": [
       "array([6, 3])"
      ]
     },
     "execution_count": 24,
     "metadata": {},
     "output_type": "execute_result"
    }
   ],
   "source": [
    "c[2][0][1:-1]"
   ]
  },
  {
   "cell_type": "code",
   "execution_count": 25,
   "id": "5609c3cc",
   "metadata": {},
   "outputs": [
    {
     "data": {
      "text/plain": [
       "array([6, 3])"
      ]
     },
     "execution_count": 25,
     "metadata": {},
     "output_type": "execute_result"
    }
   ],
   "source": [
    "c[-1][0][-3:-1]"
   ]
  },
  {
   "cell_type": "code",
   "execution_count": 26,
   "id": "0f936e0c",
   "metadata": {},
   "outputs": [],
   "source": [
    "#Array slicing(Python methods)\n"
   ]
  },
  {
   "cell_type": "code",
   "execution_count": 27,
   "id": "0cbbc123",
   "metadata": {},
   "outputs": [],
   "source": [
    "a=np.array([1,2,3,4,5,6,7,8,9])"
   ]
  },
  {
   "cell_type": "code",
   "execution_count": 28,
   "id": "2888fb23",
   "metadata": {},
   "outputs": [
    {
     "data": {
      "text/plain": [
       "array([1, 3, 5, 7, 9])"
      ]
     },
     "execution_count": 28,
     "metadata": {},
     "output_type": "execute_result"
    }
   ],
   "source": [
    "a[0:9:2]"
   ]
  },
  {
   "cell_type": "code",
   "execution_count": 29,
   "id": "27812530",
   "metadata": {},
   "outputs": [
    {
     "data": {
      "text/plain": [
       "array([2, 4, 6, 8])"
      ]
     },
     "execution_count": 29,
     "metadata": {},
     "output_type": "execute_result"
    }
   ],
   "source": [
    "a[1:9:2]"
   ]
  },
  {
   "cell_type": "code",
   "execution_count": 30,
   "id": "00b1fc1c",
   "metadata": {},
   "outputs": [],
   "source": [
    "s=np.array([[[5,7,3,21]],[[2,1,3,8]]])"
   ]
  },
  {
   "cell_type": "code",
   "execution_count": 31,
   "id": "dd937fcf",
   "metadata": {},
   "outputs": [
    {
     "data": {
      "text/plain": [
       "array([[7],\n",
       "       [1]])"
      ]
     },
     "execution_count": 31,
     "metadata": {},
     "output_type": "execute_result"
    }
   ],
   "source": [
    "s[0:2,0:2,1]"
   ]
  },
  {
   "cell_type": "code",
   "execution_count": 32,
   "id": "08144e8e",
   "metadata": {},
   "outputs": [
    {
     "data": {
      "text/plain": [
       "array([7, 1])"
      ]
     },
     "execution_count": 32,
     "metadata": {},
     "output_type": "execute_result"
    }
   ],
   "source": [
    "s[:,0,1]\n"
   ]
  },
  {
   "cell_type": "code",
   "execution_count": 33,
   "id": "548016fd",
   "metadata": {},
   "outputs": [
    {
     "data": {
      "text/plain": [
       "(array([2, 5]), array([ 8, 10]))"
      ]
     },
     "execution_count": 33,
     "metadata": {},
     "output_type": "execute_result"
    }
   ],
   "source": [
    "w=np.array([[1,2,3,4,5],[6,7,8,9,10]]) #output [2,5], [8,10]\n",
    "w[0,1::3], w[1,2::2]"
   ]
  },
  {
   "cell_type": "code",
   "execution_count": 34,
   "id": "6143b2fe",
   "metadata": {},
   "outputs": [
    {
     "data": {
      "text/plain": [
       "array([[ 2,  5],\n",
       "       [ 7, 10]])"
      ]
     },
     "execution_count": 34,
     "metadata": {},
     "output_type": "execute_result"
    }
   ],
   "source": [
    "w[:][:,1::3]"
   ]
  },
  {
   "cell_type": "code",
   "execution_count": 35,
   "id": "7ffffde9",
   "metadata": {},
   "outputs": [
    {
     "data": {
      "text/plain": [
       "array([[[[ 2,  3,  7,  5]],\n",
       "\n",
       "        [[ 8,  9, 11, 15]]],\n",
       "\n",
       "\n",
       "       [[[59, 30, 29, 15]],\n",
       "\n",
       "        [[27, 18, 19, 21]]]])"
      ]
     },
     "execution_count": 35,
     "metadata": {},
     "output_type": "execute_result"
    }
   ],
   "source": [
    "y=np.array([[[[2,3,7,5]],[[8,9,11,15]]],[[[59, 30, 29, 15]],[[27,18, 19, 21]]]]) #[3,7] [9,11]\n",
    "y"
   ]
  },
  {
   "cell_type": "code",
   "execution_count": 36,
   "id": "d3408597",
   "metadata": {},
   "outputs": [
    {
     "data": {
      "text/plain": [
       "array([[[ 2,  3,  7,  5]],\n",
       "\n",
       "       [[ 8,  9, 11, 15]]])"
      ]
     },
     "execution_count": 36,
     "metadata": {},
     "output_type": "execute_result"
    }
   ],
   "source": [
    "y[0]"
   ]
  },
  {
   "cell_type": "code",
   "execution_count": 37,
   "id": "f04bde98",
   "metadata": {},
   "outputs": [
    {
     "data": {
      "text/plain": [
       "array([[[59, 30, 29, 15]],\n",
       "\n",
       "       [[27, 18, 19, 21]]])"
      ]
     },
     "execution_count": 37,
     "metadata": {},
     "output_type": "execute_result"
    }
   ],
   "source": [
    "y[1]"
   ]
  },
  {
   "cell_type": "code",
   "execution_count": 38,
   "id": "d6fc3fa8",
   "metadata": {},
   "outputs": [
    {
     "data": {
      "text/plain": [
       "array([[ 6,  7,  8,  9, 10]])"
      ]
     },
     "execution_count": 38,
     "metadata": {},
     "output_type": "execute_result"
    }
   ],
   "source": [
    "a=np.array([[1,2,3,4,5],[6,7,8,9,10]])\n",
    "a[0:2][1:4]"
   ]
  },
  {
   "cell_type": "code",
   "execution_count": 39,
   "id": "5d113aec",
   "metadata": {},
   "outputs": [
    {
     "name": "stdout",
     "output_type": "stream",
     "text": [
      "[[2 3 4]\n",
      " [7 8 9]]\n"
     ]
    }
   ],
   "source": [
    "print(a[0:2,1:4])"
   ]
  },
  {
   "cell_type": "code",
   "execution_count": 40,
   "id": "a742c3e4",
   "metadata": {},
   "outputs": [
    {
     "data": {
      "text/plain": [
       "array([[2, 3, 4],\n",
       "       [7, 8, 9]])"
      ]
     },
     "execution_count": 40,
     "metadata": {},
     "output_type": "execute_result"
    }
   ],
   "source": [
    "(a[:,1:4])"
   ]
  },
  {
   "cell_type": "code",
   "execution_count": 41,
   "id": "7fcc16bd",
   "metadata": {},
   "outputs": [],
   "source": [
    "#Data Type: Numpy data type"
   ]
  },
  {
   "cell_type": "code",
   "execution_count": 42,
   "id": "f3fd88be",
   "metadata": {},
   "outputs": [],
   "source": [
    "#i=integer, b=boolean, u=unsigned intiger, f=float, c=complex float,m=timedelta, M=datetime, O=object, S=string, U=Unicode string\n",
    "#V=fixed chunk of memory for other type(void)"
   ]
  },
  {
   "cell_type": "code",
   "execution_count": 43,
   "id": "02e02240",
   "metadata": {},
   "outputs": [
    {
     "name": "stdout",
     "output_type": "stream",
     "text": [
      "int32\n"
     ]
    }
   ],
   "source": [
    "a=np.array([1,2,3,4])\n",
    "print(a.dtype)"
   ]
  },
  {
   "cell_type": "code",
   "execution_count": 44,
   "id": "51f18758",
   "metadata": {},
   "outputs": [
    {
     "name": "stdout",
     "output_type": "stream",
     "text": [
      "<U7\n"
     ]
    }
   ],
   "source": [
    "b=np.array([\"ik\", \"Justice\", \"Ife\"])\n",
    "print(b.dtype)"
   ]
  },
  {
   "cell_type": "code",
   "execution_count": 45,
   "id": "ee503c22",
   "metadata": {},
   "outputs": [],
   "source": [
    "#Creating array with a defined data type(casting)"
   ]
  },
  {
   "cell_type": "code",
   "execution_count": 46,
   "id": "aa404c38",
   "metadata": {},
   "outputs": [
    {
     "name": "stdout",
     "output_type": "stream",
     "text": [
      "|S1\n"
     ]
    }
   ],
   "source": [
    "a=np.array([1,2,3,4], dtype='S') #casting from an int to string\n",
    "print(a.dtype)"
   ]
  },
  {
   "cell_type": "code",
   "execution_count": 47,
   "id": "76ef8ce4",
   "metadata": {},
   "outputs": [
    {
     "name": "stdout",
     "output_type": "stream",
     "text": [
      "[1. 2. 3. 4.]\n",
      "float32\n"
     ]
    }
   ],
   "source": [
    "a=np.array([1,2,3,4], dtype='f') #converting to float\n",
    "print(a)\n",
    "print(a.dtype) # checking the data type"
   ]
  },
  {
   "cell_type": "code",
   "execution_count": 48,
   "id": "3a6b2356",
   "metadata": {},
   "outputs": [
    {
     "name": "stdout",
     "output_type": "stream",
     "text": [
      "[1 2 3 4]\n",
      "int32\n"
     ]
    }
   ],
   "source": [
    "a=np.array([1,2,3,4], dtype='i4')\n",
    "print(a)\n",
    "print(a.dtype)"
   ]
  },
  {
   "cell_type": "code",
   "execution_count": 49,
   "id": "5ef1bf91",
   "metadata": {},
   "outputs": [],
   "source": [
    "#converting an existing array data type by using astype()"
   ]
  },
  {
   "cell_type": "code",
   "execution_count": 50,
   "id": "582ad873",
   "metadata": {},
   "outputs": [
    {
     "name": "stdout",
     "output_type": "stream",
     "text": [
      "[1 2 3 4]\n",
      "[1. 2. 3. 4.]\n"
     ]
    }
   ],
   "source": [
    "a=np.array([1,2,3,4])\n",
    "print(a)\n",
    "v=a.astype('f')\n",
    "print(v)"
   ]
  },
  {
   "cell_type": "code",
   "execution_count": 51,
   "id": "e3926724",
   "metadata": {},
   "outputs": [],
   "source": [
    "#Asssinment\n",
    "#b=np.array([4.72, 3E2, 47e7]) #change it to integer\n",
    "#c=np.array([99,2,0, 0.5]) # change it to boolen"
   ]
  },
  {
   "cell_type": "code",
   "execution_count": 52,
   "id": "eabed678",
   "metadata": {},
   "outputs": [
    {
     "name": "stdout",
     "output_type": "stream",
     "text": [
      "[1 2 7 4]\n",
      "[1 2 7 4]\n"
     ]
    }
   ],
   "source": [
    "# copy and veiw\n",
    "a=np.array([1,2,3,4])\n",
    "b=a\n",
    "b[2]=7\n",
    "print(a)\n",
    "print(b)"
   ]
  },
  {
   "cell_type": "code",
   "execution_count": 53,
   "id": "5a4e58f2",
   "metadata": {},
   "outputs": [
    {
     "name": "stdout",
     "output_type": "stream",
     "text": [
      "[1 2 3 4]\n",
      "[1 2 9 4]\n"
     ]
    }
   ],
   "source": [
    "a=np.array([1,2,3,4]) # to copy or save a file or dataset\n",
    "b=a.copy()\n",
    "b[2]=9\n",
    "print(a)\n",
    "print(b)"
   ]
  },
  {
   "cell_type": "code",
   "execution_count": 54,
   "id": "ff4f54e6",
   "metadata": {},
   "outputs": [],
   "source": [
    "#To check if a datatype is copied or thesame"
   ]
  },
  {
   "cell_type": "code",
   "execution_count": 55,
   "id": "c1a7ccf8",
   "metadata": {},
   "outputs": [
    {
     "name": "stdout",
     "output_type": "stream",
     "text": [
      "None\n",
      "[1 2 3 4]\n"
     ]
    }
   ],
   "source": [
    "a=np.array([1,2,3,4])\n",
    "b=a\n",
    "c=a.view()\n",
    "print(b.base)\n",
    "print(c.base)"
   ]
  },
  {
   "cell_type": "code",
   "execution_count": 56,
   "id": "e5fd4e57",
   "metadata": {},
   "outputs": [],
   "source": [
    "#Numpy array shape/reshape : it is the number of an element in each dimension. "
   ]
  },
  {
   "cell_type": "code",
   "execution_count": 57,
   "id": "1ced7654",
   "metadata": {},
   "outputs": [
    {
     "name": "stdout",
     "output_type": "stream",
     "text": [
      "(2, 4)\n"
     ]
    },
    {
     "data": {
      "text/plain": [
       "array([[1, 2, 3, 4],\n",
       "       [5, 6, 7, 8]])"
      ]
     },
     "execution_count": 57,
     "metadata": {},
     "output_type": "execute_result"
    }
   ],
   "source": [
    "d=np.array([[1,2,3,4],[5,6,7,8]])\n",
    "print(d.shape)\n",
    "d"
   ]
  },
  {
   "cell_type": "code",
   "execution_count": 58,
   "id": "18f8dcba",
   "metadata": {},
   "outputs": [
    {
     "data": {
      "text/plain": [
       "array([[[[[1, 2, 3, 4],\n",
       "          [5, 6, 7, 8]]]]])"
      ]
     },
     "execution_count": 58,
     "metadata": {},
     "output_type": "execute_result"
    }
   ],
   "source": [
    "d=np.array([[1,2,3,4],[5,6,7,8]],ndmin=5)\n",
    "d"
   ]
  },
  {
   "cell_type": "code",
   "execution_count": 59,
   "id": "5aac0669",
   "metadata": {},
   "outputs": [],
   "source": [
    "#Data Type , dtype, astype"
   ]
  },
  {
   "cell_type": "code",
   "execution_count": 60,
   "id": "662ab511",
   "metadata": {},
   "outputs": [
    {
     "name": "stdout",
     "output_type": "stream",
     "text": [
      "[    1    25 20000]\n"
     ]
    }
   ],
   "source": [
    "a=np.array([1.3,25, 2e4],)\n",
    "b=a.astype('i')\n",
    "print(b)"
   ]
  },
  {
   "cell_type": "code",
   "execution_count": 61,
   "id": "4de9ac41",
   "metadata": {},
   "outputs": [
    {
     "name": "stdout",
     "output_type": "stream",
     "text": [
      "[    1    25 20000]\n"
     ]
    }
   ],
   "source": [
    "a=np.array([1.3,25, 2e4], dtype=('i'))\n",
    "print(a)\n"
   ]
  },
  {
   "cell_type": "code",
   "execution_count": 62,
   "id": "7dc66063",
   "metadata": {},
   "outputs": [
    {
     "name": "stdout",
     "output_type": "stream",
     "text": [
      "[ True  True False  True]\n"
     ]
    }
   ],
   "source": [
    "b=np.array([99,2,0,0.5], dtype=('bool'))\n",
    "print(b)"
   ]
  },
  {
   "cell_type": "code",
   "execution_count": 63,
   "id": "922fdbd7",
   "metadata": {},
   "outputs": [
    {
     "name": "stdout",
     "output_type": "stream",
     "text": [
      "[[1 2]\n",
      " [3 4]]\n"
     ]
    }
   ],
   "source": [
    "#Reshaping means changing shape of an array.\n",
    "b=np.array([1,2,3,4])\n",
    "c=b.reshape(2,2)\n",
    "print(c)"
   ]
  },
  {
   "cell_type": "code",
   "execution_count": 64,
   "id": "00f9e3b6",
   "metadata": {},
   "outputs": [
    {
     "name": "stdout",
     "output_type": "stream",
     "text": [
      "[[[1 2]\n",
      "  [3 4]]\n",
      "\n",
      " [[5 6]\n",
      "  [7 8]]]\n"
     ]
    }
   ],
   "source": [
    "b=np.array([1,2,3,4,5,6,7,8])\n",
    "c=b.reshape(2,2,2)\n",
    "print(c)"
   ]
  },
  {
   "cell_type": "code",
   "execution_count": 65,
   "id": "5ce6f9d8",
   "metadata": {},
   "outputs": [
    {
     "name": "stdout",
     "output_type": "stream",
     "text": [
      "[[[ 1  2  3]\n",
      "  [ 4  5  6]]\n",
      "\n",
      " [[ 7  8  9]\n",
      "  [10 11 12]]]\n"
     ]
    }
   ],
   "source": [
    "b=np.array([1,2,3,4,5,6,7,8,9,10,11,12])\n",
    "c=b.reshape(2,2,-1)\n",
    "print(c)"
   ]
  },
  {
   "cell_type": "code",
   "execution_count": 66,
   "id": "61bc5000",
   "metadata": {},
   "outputs": [
    {
     "name": "stdout",
     "output_type": "stream",
     "text": [
      "[[[ 1  2  3  4  5]\n",
      "  [ 6  7  8  9 10]]]\n"
     ]
    }
   ],
   "source": [
    "a=np.array([1,2,3,4,5,6,7,8,9,10])\n",
    "c=a.reshape(1,2,-1)\n",
    "print(c)"
   ]
  },
  {
   "cell_type": "code",
   "execution_count": 67,
   "id": "e0f841a2",
   "metadata": {},
   "outputs": [
    {
     "name": "stdout",
     "output_type": "stream",
     "text": [
      "[[[[[25 11]\n",
      "    [28 75]\n",
      "    [18 23]\n",
      "    [14 21]\n",
      "    [19 20]]]]]\n"
     ]
    }
   ],
   "source": [
    "a=np.array([25,11,28,75,18,23,14,21,19,20])\n",
    "c=a.reshape(1,1,1,5,-1)\n",
    "print(c)"
   ]
  },
  {
   "cell_type": "code",
   "execution_count": 68,
   "id": "c35f9641",
   "metadata": {},
   "outputs": [
    {
     "name": "stdout",
     "output_type": "stream",
     "text": [
      "[[[[[25 11 28 75 18]\n",
      "    [23 14 21 19 20]]]]]\n"
     ]
    }
   ],
   "source": [
    "a=np.array([25,11,28,75,18,23,14,21,19,20])\n",
    "c=a.reshape(1,1,1,2,-1)\n",
    "print(c)"
   ]
  },
  {
   "cell_type": "code",
   "execution_count": 69,
   "id": "003b5192",
   "metadata": {},
   "outputs": [
    {
     "name": "stdout",
     "output_type": "stream",
     "text": [
      "[[[[[[[[[[25 11 28 75 18 23 14]\n",
      "         [21 19 20 21 22 23 24]]]]]]]]]]\n"
     ]
    }
   ],
   "source": [
    "a=np.array([25,11,28,75,18,23,14,21,19,20,21,22,23,24])\n",
    "c=a.reshape(1,1,1,1,1,1,1,1,2,-1)\n",
    "print(c)"
   ]
  },
  {
   "cell_type": "code",
   "execution_count": 70,
   "id": "c09a0f4f",
   "metadata": {},
   "outputs": [],
   "source": [
    "#a=np.array([25,11,28,75,18,23,14,21,19,20,21,22,23,24])\n",
    "#c=a.reshape(1,1,1,1,5,-1)\n",
    "#print(c)"
   ]
  },
  {
   "cell_type": "code",
   "execution_count": 71,
   "id": "a27fc6f5",
   "metadata": {},
   "outputs": [],
   "source": [
    "#unknow dimension"
   ]
  },
  {
   "cell_type": "code",
   "execution_count": 72,
   "id": "50e6a405",
   "metadata": {},
   "outputs": [],
   "source": [
    "#Flatten Array"
   ]
  },
  {
   "cell_type": "code",
   "execution_count": 73,
   "id": "1ccd6d3a",
   "metadata": {},
   "outputs": [
    {
     "name": "stdout",
     "output_type": "stream",
     "text": [
      "[[[[[[[[[[25 11 28 75 18 23 14]\n",
      "         [21 19 20 21 22 23 24]]]]]]]]]]\n"
     ]
    }
   ],
   "source": [
    "a=np.array([25,11,28,75,18,23,14,21,19,20,21,22,23,24])\n",
    "c=a.reshape(1,1,1,1,1,1,1,1,2,-1)\n",
    "print(c)"
   ]
  },
  {
   "cell_type": "code",
   "execution_count": 74,
   "id": "a0b4f055",
   "metadata": {},
   "outputs": [
    {
     "data": {
      "text/plain": [
       "array([25, 11, 28, 75, 18, 23, 14, 21, 19, 20, 21, 22, 23, 24])"
      ]
     },
     "execution_count": 74,
     "metadata": {},
     "output_type": "execute_result"
    }
   ],
   "source": [
    "c.reshape(-1)"
   ]
  },
  {
   "cell_type": "code",
   "execution_count": 75,
   "id": "cdd07517",
   "metadata": {},
   "outputs": [],
   "source": [
    "#iterate a array numpy"
   ]
  },
  {
   "cell_type": "code",
   "execution_count": 76,
   "id": "dae4c1f9",
   "metadata": {},
   "outputs": [
    {
     "name": "stdout",
     "output_type": "stream",
     "text": [
      "1\n",
      "2\n",
      "3\n"
     ]
    }
   ],
   "source": [
    "a=np.array([1,2,3])\n",
    "for i in a:\n",
    "    print(i)"
   ]
  },
  {
   "cell_type": "code",
   "execution_count": 77,
   "id": "c20cb977",
   "metadata": {},
   "outputs": [
    {
     "name": "stdout",
     "output_type": "stream",
     "text": [
      "1\n",
      "2\n",
      "3\n",
      "4\n",
      "5\n",
      "6\n",
      "7\n",
      "8\n"
     ]
    }
   ],
   "source": [
    "b=np.array([[1,2,3,4],[5,6,7,8]])\n",
    "for i in b:\n",
    "    for j in i:\n",
    "        print(j)"
   ]
  },
  {
   "cell_type": "code",
   "execution_count": 78,
   "id": "7eb94a2d",
   "metadata": {},
   "outputs": [
    {
     "name": "stdout",
     "output_type": "stream",
     "text": [
      "[[1 2 3 4]\n",
      " [5 6 7 8]]\n",
      "[[ 9 10 11 12]\n",
      " [13 14 15 16]]\n"
     ]
    }
   ],
   "source": [
    "b=np.array([[[1,2,3,4],[5,6,7,8]],[[9,10,11,12],[13,14,15,16]]])\n",
    "for i in b:\n",
    "    print(i)"
   ]
  },
  {
   "cell_type": "code",
   "execution_count": 79,
   "id": "2b148ba4",
   "metadata": {},
   "outputs": [
    {
     "name": "stdout",
     "output_type": "stream",
     "text": [
      "1\n",
      "2\n",
      "3\n",
      "4\n",
      "5\n",
      "6\n",
      "7\n",
      "8\n",
      "9\n",
      "10\n",
      "11\n",
      "12\n",
      "13\n",
      "14\n",
      "15\n",
      "16\n"
     ]
    }
   ],
   "source": [
    "b=np.array([[[1,2,3,4],[5,6,7,8]],[[9,10,11,12],[13,14,15,16]]])\n",
    "for i in b:\n",
    "    for c in i:\n",
    "        for d in c:\n",
    "            print(d)"
   ]
  },
  {
   "cell_type": "code",
   "execution_count": 80,
   "id": "f4d956b2",
   "metadata": {},
   "outputs": [
    {
     "name": "stdout",
     "output_type": "stream",
     "text": [
      "1\n",
      "2\n",
      "3\n",
      "4\n",
      "5\n",
      "6\n",
      "7\n",
      "8\n",
      "9\n",
      "10\n",
      "11\n",
      "12\n",
      "13\n",
      "14\n",
      "15\n",
      "16\n"
     ]
    }
   ],
   "source": [
    "#iterating array using nditer()\n",
    "b=np.array([[[1,2,3,4],[5,6,7,8]],[[9,10,11,12],[13,14,15,16]]])\n",
    "for i in np.nditer(b):\n",
    "    print(i)"
   ]
  },
  {
   "cell_type": "code",
   "execution_count": 81,
   "id": "93e52a20",
   "metadata": {},
   "outputs": [
    {
     "name": "stdout",
     "output_type": "stream",
     "text": [
      "1.0\n",
      "2.0\n",
      "3.0\n",
      "4.0\n"
     ]
    }
   ],
   "source": [
    "b=np.array([1,2,3,4])\n",
    "for i in np.nditer(b,flags=['buffered'],op_dtypes=['float64']):\n",
    "    print(i)"
   ]
  },
  {
   "cell_type": "code",
   "execution_count": 82,
   "id": "26dd9b5c",
   "metadata": {},
   "outputs": [
    {
     "name": "stdout",
     "output_type": "stream",
     "text": [
      "1\n",
      "3\n",
      "5\n",
      "7\n"
     ]
    }
   ],
   "source": [
    "a=np.array([[1,2,3,4],[5,6,7,8]])\n",
    "for x in np.nditer(a[:,::2]):\n",
    "    print(x)"
   ]
  },
  {
   "cell_type": "code",
   "execution_count": 83,
   "id": "51de4f1d",
   "metadata": {},
   "outputs": [
    {
     "name": "stdout",
     "output_type": "stream",
     "text": [
      "(0,) 1\n",
      "(1,) 2\n",
      "(2,) 3\n",
      "(3,) 4\n",
      "(4,) 5\n",
      "(5,) 6\n",
      "(6,) 7\n"
     ]
    }
   ],
   "source": [
    "#using ndenumerate to sort by giving the element their index\n",
    "a=np.array([1,2,3,4,5,6,7])\n",
    "for i,z in np.ndenumerate(a):\n",
    "    print(i,z)\n",
    "    "
   ]
  },
  {
   "cell_type": "code",
   "execution_count": 84,
   "id": "00ef3697",
   "metadata": {},
   "outputs": [
    {
     "name": "stdout",
     "output_type": "stream",
     "text": [
      "(0, 0) 1\n",
      "(0, 1) 2\n",
      "(0, 2) 3\n",
      "(1, 0) 4\n",
      "(1, 1) 5\n",
      "(1, 2) 6\n"
     ]
    }
   ],
   "source": [
    "a=np.array([[1,2,3],[4,5,6]]) #2 dimensional array\n",
    "for i,z in np.ndenumerate(a):\n",
    "    print(i,z)"
   ]
  },
  {
   "cell_type": "code",
   "execution_count": 85,
   "id": "14b04655",
   "metadata": {},
   "outputs": [
    {
     "name": "stdout",
     "output_type": "stream",
     "text": [
      "[ 1  2  3  4 10 11 13 15]\n"
     ]
    }
   ],
   "source": [
    "#Joining a numpy array(putting of 2 or more array in a single array)\n",
    "a=np.array([1,2,3,4])\n",
    "b=np.array([10,11,13,15])\n",
    "c=np.concatenate((a,b))\n",
    "print(c)\n"
   ]
  },
  {
   "cell_type": "code",
   "execution_count": 86,
   "id": "bd53f1fa",
   "metadata": {},
   "outputs": [
    {
     "name": "stdout",
     "output_type": "stream",
     "text": [
      "[[ 1  2  3  7  8  9]\n",
      " [ 4  5  6 10 11 12]]\n"
     ]
    }
   ],
   "source": [
    "a=np.array([[1,2,3],[4,5,6]])\n",
    "b=np.array([[7,8,9],[10,11,12]])\n",
    "d=np.concatenate((a,b),axis=1)\n",
    "print(d)"
   ]
  },
  {
   "cell_type": "code",
   "execution_count": 87,
   "id": "dce08bad",
   "metadata": {},
   "outputs": [],
   "source": [
    "#joining using stack"
   ]
  },
  {
   "cell_type": "code",
   "execution_count": 88,
   "id": "b36d457b",
   "metadata": {},
   "outputs": [
    {
     "name": "stdout",
     "output_type": "stream",
     "text": [
      "[[ 1 10]\n",
      " [ 2 11]\n",
      " [ 3 13]\n",
      " [ 4 15]]\n"
     ]
    }
   ],
   "source": [
    "a=np.array([1,2,3,4])\n",
    "b=np.array([10,11,13,15])\n",
    "c=np.stack((a,b),axis=1)\n",
    "print(c)"
   ]
  },
  {
   "cell_type": "code",
   "execution_count": 89,
   "id": "58fa1bf9",
   "metadata": {},
   "outputs": [
    {
     "name": "stdout",
     "output_type": "stream",
     "text": [
      "[ 1  2  3  4 10 11 13 15  9  8  6  7]\n"
     ]
    }
   ],
   "source": [
    "a=np.array([1,2,3,4]) #using hstack to join(horizontal)\n",
    "b=np.array([10,11,13,15])\n",
    "c=np.array([9,8,6,7])\n",
    "d=np.hstack((a,b,c))\n",
    "print(d)"
   ]
  },
  {
   "cell_type": "code",
   "execution_count": 90,
   "id": "595185ce",
   "metadata": {},
   "outputs": [
    {
     "name": "stdout",
     "output_type": "stream",
     "text": [
      "[[ 1  2  3  4]\n",
      " [10 11 13 15]\n",
      " [ 9  8  6  7]]\n"
     ]
    }
   ],
   "source": [
    "a=np.array([1,2,3,4]) #using vstack to join(vertical)\n",
    "b=np.array([10,11,13,15])\n",
    "c=np.array([9,8,6,7])\n",
    "d=np.vstack((a,b,c))\n",
    "print(d)"
   ]
  },
  {
   "cell_type": "code",
   "execution_count": 91,
   "id": "7c5ca5e6",
   "metadata": {},
   "outputs": [
    {
     "name": "stdout",
     "output_type": "stream",
     "text": [
      "[[[ 1 10  9]\n",
      "  [ 2 11  8]\n",
      "  [ 3 13  6]\n",
      "  [ 4 15  7]]]\n"
     ]
    }
   ],
   "source": [
    "a=np.array([1,2,3,4]) #using dstack to join: deals with height and depth\n",
    "b=np.array([10,11,13,15])\n",
    "c=np.array([9,8,6,7])\n",
    "d=np.dstack((a,b,c))\n",
    "print(d)"
   ]
  },
  {
   "cell_type": "code",
   "execution_count": 92,
   "id": "00dfbe1c",
   "metadata": {},
   "outputs": [
    {
     "name": "stdout",
     "output_type": "stream",
     "text": [
      "[array([1, 2]), array([3, 4]), array([6, 7]), array([8])]\n"
     ]
    }
   ],
   "source": [
    "#spliting numpy array: it is a reverse operation of an array.Array_split# read( dsplit, vsplit and hsplit)\n",
    "a=np.array([1,2,3,4,6,7,8])\n",
    "b=np.array_split(a,4)\n",
    "print(b)"
   ]
  },
  {
   "cell_type": "code",
   "execution_count": 93,
   "id": "6e228cfb",
   "metadata": {},
   "outputs": [
    {
     "data": {
      "text/plain": [
       "array([1, 2])"
      ]
     },
     "execution_count": 93,
     "metadata": {},
     "output_type": "execute_result"
    }
   ],
   "source": [
    "b[0]"
   ]
  },
  {
   "cell_type": "code",
   "execution_count": 94,
   "id": "f0b763e9",
   "metadata": {},
   "outputs": [
    {
     "data": {
      "text/plain": [
       "array([3, 4])"
      ]
     },
     "execution_count": 94,
     "metadata": {},
     "output_type": "execute_result"
    }
   ],
   "source": [
    "b[1]"
   ]
  },
  {
   "cell_type": "code",
   "execution_count": 95,
   "id": "f03b7ad9",
   "metadata": {},
   "outputs": [
    {
     "data": {
      "text/plain": [
       "array([6, 7])"
      ]
     },
     "execution_count": 95,
     "metadata": {},
     "output_type": "execute_result"
    }
   ],
   "source": [
    "b[2]"
   ]
  },
  {
   "cell_type": "code",
   "execution_count": 96,
   "id": "54e95905",
   "metadata": {},
   "outputs": [
    {
     "data": {
      "text/plain": [
       "array([8])"
      ]
     },
     "execution_count": 96,
     "metadata": {},
     "output_type": "execute_result"
    }
   ],
   "source": [
    "b[3]"
   ]
  },
  {
   "cell_type": "code",
   "execution_count": 97,
   "id": "bd5f61df",
   "metadata": {},
   "outputs": [
    {
     "name": "stdout",
     "output_type": "stream",
     "text": [
      "[array([[1, 2],\n",
      "       [3, 4]]), array([[5, 6],\n",
      "       [7, 8]]), array([[ 9, 10],\n",
      "       [11, 12]])]\n"
     ]
    }
   ],
   "source": [
    "a=np.array([[1,2], [3,4],[5,6],[7,8],[9,10],[11,12]])\n",
    "b=np.array_split(a,3)\n",
    "print(b)"
   ]
  },
  {
   "cell_type": "code",
   "execution_count": 98,
   "id": "7d774804",
   "metadata": {},
   "outputs": [
    {
     "data": {
      "text/plain": [
       "array([[1, 2],\n",
       "       [3, 4]])"
      ]
     },
     "execution_count": 98,
     "metadata": {},
     "output_type": "execute_result"
    }
   ],
   "source": [
    "b[0]"
   ]
  },
  {
   "cell_type": "code",
   "execution_count": 99,
   "id": "1d29baeb",
   "metadata": {},
   "outputs": [
    {
     "data": {
      "text/plain": [
       "array([[5, 6],\n",
       "       [7, 8]])"
      ]
     },
     "execution_count": 99,
     "metadata": {},
     "output_type": "execute_result"
    }
   ],
   "source": [
    "b[1]"
   ]
  },
  {
   "cell_type": "code",
   "execution_count": 100,
   "id": "d9fa2160",
   "metadata": {},
   "outputs": [
    {
     "data": {
      "text/plain": [
       "array([[ 9, 10],\n",
       "       [11, 12]])"
      ]
     },
     "execution_count": 100,
     "metadata": {},
     "output_type": "execute_result"
    }
   ],
   "source": [
    "b[2]"
   ]
  },
  {
   "cell_type": "code",
   "execution_count": 101,
   "id": "84ce0f9f",
   "metadata": {},
   "outputs": [
    {
     "data": {
      "text/plain": [
       "[array([[1, 2],\n",
       "        [3, 4]]),\n",
       " array([[5, 6],\n",
       "        [7, 8]]),\n",
       " array([[ 9, 10],\n",
       "        [11, 12]])]"
      ]
     },
     "execution_count": 101,
     "metadata": {},
     "output_type": "execute_result"
    }
   ],
   "source": [
    "b[:]"
   ]
  },
  {
   "cell_type": "code",
   "execution_count": 102,
   "id": "c41142e4",
   "metadata": {},
   "outputs": [
    {
     "name": "stdout",
     "output_type": "stream",
     "text": [
      "(array([3, 5], dtype=int64),)\n"
     ]
    }
   ],
   "source": [
    "# Searching an array by showing the index position of your search\n",
    "a=np.array([1,2,3,4,5,4])\n",
    "x=np.where(a==4)\n",
    "print(x)"
   ]
  },
  {
   "cell_type": "code",
   "execution_count": 103,
   "id": "2bf37e12",
   "metadata": {},
   "outputs": [
    {
     "name": "stdout",
     "output_type": "stream",
     "text": [
      "(array([1, 3, 5], dtype=int64),)\n"
     ]
    }
   ],
   "source": [
    "a=np.array([1,2,3,4,5,4])#printing out the index positn of the index even element\n",
    "x=np.where(a%2==0)\n",
    "print(x)"
   ]
  },
  {
   "cell_type": "code",
   "execution_count": 104,
   "id": "43b54099",
   "metadata": {},
   "outputs": [],
   "source": [
    "#search sorted  in numpy. it performs binary search in an array"
   ]
  },
  {
   "cell_type": "code",
   "execution_count": 105,
   "id": "82fb68cf",
   "metadata": {},
   "outputs": [
    {
     "name": "stdout",
     "output_type": "stream",
     "text": [
      "4\n"
     ]
    }
   ],
   "source": [
    "a=np.array([1,2,4,3,5,6]) # it will signify where 4 should be.it normally count from left hand.\n",
    "x=np.searchsorted(a,4)\n",
    "print(x)"
   ]
  },
  {
   "cell_type": "code",
   "execution_count": 106,
   "id": "9cebf1c5",
   "metadata": {},
   "outputs": [
    {
     "name": "stdout",
     "output_type": "stream",
     "text": [
      "6\n"
     ]
    }
   ],
   "source": [
    "a=np.array([1,2,4,3,5,6]) # it will signify where 4 should be.it normally count from right hand.\n",
    "x=np.searchsorted(a,7, side='right')\n",
    "print(x)"
   ]
  },
  {
   "cell_type": "code",
   "execution_count": 107,
   "id": "1a1dcff0",
   "metadata": {},
   "outputs": [
    {
     "name": "stdout",
     "output_type": "stream",
     "text": [
      "[1 2 3 4 6 7]\n"
     ]
    }
   ],
   "source": [
    "#Sort\n",
    "a=np.array([1,2,3,4,7,6])\n",
    "print(np.sort(a))\n"
   ]
  },
  {
   "cell_type": "code",
   "execution_count": 108,
   "id": "4a1f2831",
   "metadata": {},
   "outputs": [
    {
     "name": "stdout",
     "output_type": "stream",
     "text": [
      "['Justice' 'ife' 'ik']\n"
     ]
    }
   ],
   "source": [
    "b=np.array(['ife', 'Justice', 'ik'])\n",
    "print(np.sort(b))"
   ]
  },
  {
   "cell_type": "code",
   "execution_count": 109,
   "id": "08ec311d",
   "metadata": {},
   "outputs": [
    {
     "name": "stdout",
     "output_type": "stream",
     "text": [
      "[False  True  True]\n"
     ]
    }
   ],
   "source": [
    "c=np.array([True,False,True])\n",
    "print(np.sort(c))"
   ]
  },
  {
   "cell_type": "code",
   "execution_count": 110,
   "id": "b289b086",
   "metadata": {},
   "outputs": [
    {
     "name": "stdout",
     "output_type": "stream",
     "text": [
      "[[ 1  9 23]\n",
      " [ 2  7 11]]\n"
     ]
    }
   ],
   "source": [
    "a=np.array([[9,23,1],[11,7,2]])\n",
    "print(np.sort(a))"
   ]
  },
  {
   "cell_type": "code",
   "execution_count": 111,
   "id": "d48e7c4e",
   "metadata": {},
   "outputs": [
    {
     "name": "stdout",
     "output_type": "stream",
     "text": [
      "[ 1  2  3  5  7  9 10]\n"
     ]
    }
   ],
   "source": [
    "a=np.array([3,7,2,1,9,5,10])\n",
    "print(np.sort(a))"
   ]
  },
  {
   "cell_type": "code",
   "execution_count": 113,
   "id": "8e4e65d7",
   "metadata": {},
   "outputs": [
    {
     "name": "stdout",
     "output_type": "stream",
     "text": [
      "(array([ 0,  2,  4,  6,  8, 10, 12, 14, 16, 18], dtype=int64),)\n"
     ]
    }
   ],
   "source": [
    "a=np.arange(0,20)\n",
    "b=np.where(a%2==0)\n",
    "print(b)"
   ]
  },
  {
   "cell_type": "code",
   "execution_count": 115,
   "id": "1014b579",
   "metadata": {},
   "outputs": [
    {
     "name": "stdout",
     "output_type": "stream",
     "text": [
      "(array([ 1,  3,  5,  7,  9, 11, 13, 15, 17], dtype=int64),)\n"
     ]
    }
   ],
   "source": [
    "a=np.arange(21,40)\n",
    "b=np.where(a%2==0)\n",
    "print(b)"
   ]
  },
  {
   "cell_type": "code",
   "execution_count": 116,
   "id": "dbe0ea07",
   "metadata": {},
   "outputs": [
    {
     "data": {
      "text/plain": [
       "array([21, 23, 25, 27, 29, 31, 33, 35, 37, 39])"
      ]
     },
     "execution_count": 116,
     "metadata": {},
     "output_type": "execute_result"
    }
   ],
   "source": [
    "a=np.arange(21,40,2)\n",
    "a"
   ]
  },
  {
   "cell_type": "code",
   "execution_count": 118,
   "id": "7a03488c",
   "metadata": {},
   "outputs": [
    {
     "name": "stdout",
     "output_type": "stream",
     "text": [
      "(array([ 1,  3,  5,  7,  9, 11, 13, 15, 17, 19, 21, 23, 25, 27, 29, 31, 33,\n",
      "       35, 37, 39], dtype=int64),)\n"
     ]
    }
   ],
   "source": [
    "a=np.arange(0,40)\n",
    "b=np.where(a%2!=0)\n",
    "print(b)"
   ]
  },
  {
   "cell_type": "code",
   "execution_count": 119,
   "id": "22b30d9f",
   "metadata": {},
   "outputs": [
    {
     "name": "stdout",
     "output_type": "stream",
     "text": [
      "(array([ 0,  5, 10, 15, 20, 25, 30, 35], dtype=int64),)\n"
     ]
    }
   ],
   "source": [
    "a=np.arange(0,40)\n",
    "b=np.where(a%5==0)\n",
    "print(b)"
   ]
  },
  {
   "cell_type": "code",
   "execution_count": 120,
   "id": "b121f542",
   "metadata": {},
   "outputs": [
    {
     "data": {
      "text/plain": [
       "array([0., 0., 0., 0., 0., 0., 0., 0., 0.])"
      ]
     },
     "execution_count": 120,
     "metadata": {},
     "output_type": "execute_result"
    }
   ],
   "source": [
    "np.zeros(9)"
   ]
  },
  {
   "cell_type": "code",
   "execution_count": 121,
   "id": "6e37671d",
   "metadata": {},
   "outputs": [
    {
     "data": {
      "text/plain": [
       "array([0., 0., 0.])"
      ]
     },
     "execution_count": 121,
     "metadata": {},
     "output_type": "execute_result"
    }
   ],
   "source": [
    "np.zeros(3)"
   ]
  },
  {
   "cell_type": "code",
   "execution_count": 122,
   "id": "6c0cb465",
   "metadata": {},
   "outputs": [
    {
     "data": {
      "text/plain": [
       "array([[0., 0., 0.],\n",
       "       [0., 0., 0.]])"
      ]
     },
     "execution_count": 122,
     "metadata": {},
     "output_type": "execute_result"
    }
   ],
   "source": [
    "np.zeros((2,3)) # 2=row and 3=column"
   ]
  },
  {
   "cell_type": "code",
   "execution_count": 123,
   "id": "2b470755",
   "metadata": {},
   "outputs": [
    {
     "data": {
      "text/plain": [
       "array([1., 1., 1., 1., 1., 1., 1., 1.])"
      ]
     },
     "execution_count": 123,
     "metadata": {},
     "output_type": "execute_result"
    }
   ],
   "source": [
    "np.ones(8)"
   ]
  },
  {
   "cell_type": "code",
   "execution_count": 124,
   "id": "ed3bb41c",
   "metadata": {},
   "outputs": [
    {
     "data": {
      "text/plain": [
       "array([[1., 1., 1., 1.],\n",
       "       [1., 1., 1., 1.],\n",
       "       [1., 1., 1., 1.]])"
      ]
     },
     "execution_count": 124,
     "metadata": {},
     "output_type": "execute_result"
    }
   ],
   "source": [
    "np.ones((3,4))"
   ]
  },
  {
   "cell_type": "code",
   "execution_count": 128,
   "id": "aa6bbfff",
   "metadata": {},
   "outputs": [
    {
     "data": {
      "text/plain": [
       "array([[1., 1., 1., 1.],\n",
       "       [1., 1., 1., 1.],\n",
       "       [1., 1., 1., 1.]])"
      ]
     },
     "execution_count": 128,
     "metadata": {},
     "output_type": "execute_result"
    }
   ],
   "source": [
    "np.ones([3,4])"
   ]
  },
  {
   "cell_type": "code",
   "execution_count": 130,
   "id": "35b17e0f",
   "metadata": {},
   "outputs": [
    {
     "data": {
      "text/plain": [
       "array([ 0. ,  2.5,  5. ,  7.5, 10. ])"
      ]
     },
     "execution_count": 130,
     "metadata": {},
     "output_type": "execute_result"
    }
   ],
   "source": [
    "a=np.linspace(0,10,5)\n",
    "a"
   ]
  },
  {
   "cell_type": "code",
   "execution_count": 133,
   "id": "4e1b5d80",
   "metadata": {},
   "outputs": [
    {
     "data": {
      "text/plain": [
       "array([ 0.        ,  1.66666667,  3.33333333,  5.        ,  6.66666667,\n",
       "        8.33333333, 10.        ])"
      ]
     },
     "execution_count": 133,
     "metadata": {},
     "output_type": "execute_result"
    }
   ],
   "source": [
    "a=np.linspace(0,10,7)\n",
    "a"
   ]
  },
  {
   "cell_type": "code",
   "execution_count": 134,
   "id": "62a3c499",
   "metadata": {},
   "outputs": [
    {
     "data": {
      "text/plain": [
       "array([[1., 0., 0., 0., 0., 0., 0., 0., 0.],\n",
       "       [0., 1., 0., 0., 0., 0., 0., 0., 0.],\n",
       "       [0., 0., 1., 0., 0., 0., 0., 0., 0.],\n",
       "       [0., 0., 0., 1., 0., 0., 0., 0., 0.],\n",
       "       [0., 0., 0., 0., 1., 0., 0., 0., 0.],\n",
       "       [0., 0., 0., 0., 0., 1., 0., 0., 0.],\n",
       "       [0., 0., 0., 0., 0., 0., 1., 0., 0.],\n",
       "       [0., 0., 0., 0., 0., 0., 0., 1., 0.],\n",
       "       [0., 0., 0., 0., 0., 0., 0., 0., 1.]])"
      ]
     },
     "execution_count": 134,
     "metadata": {},
     "output_type": "execute_result"
    }
   ],
   "source": [
    "np.eye(9)"
   ]
  },
  {
   "cell_type": "code",
   "execution_count": 135,
   "id": "d54887e4",
   "metadata": {},
   "outputs": [
    {
     "data": {
      "text/plain": [
       "array([0.75413021, 0.8317527 , 0.08588721])"
      ]
     },
     "execution_count": 135,
     "metadata": {},
     "output_type": "execute_result"
    }
   ],
   "source": [
    "a=np.random.rand(3)\n",
    "a"
   ]
  },
  {
   "cell_type": "code",
   "execution_count": 136,
   "id": "d0e231bb",
   "metadata": {},
   "outputs": [
    {
     "data": {
      "text/plain": [
       "array([0.53289057, 0.05131699, 0.27529297, 0.01350912, 0.36423931])"
      ]
     },
     "execution_count": 136,
     "metadata": {},
     "output_type": "execute_result"
    }
   ],
   "source": [
    "a=np.random.rand(5)\n",
    "a"
   ]
  },
  {
   "cell_type": "code",
   "execution_count": 160,
   "id": "01beed5e",
   "metadata": {},
   "outputs": [
    {
     "data": {
      "text/plain": [
       "array([[[0.55940942, 0.77566145, 0.65831494],\n",
       "        [0.60512898, 0.01242877, 0.08541648],\n",
       "        [0.28621141, 0.3070009 , 0.64994076]],\n",
       "\n",
       "       [[0.16461006, 0.36049595, 0.95816892],\n",
       "        [0.32315071, 0.06151023, 0.14930356],\n",
       "        [0.56608577, 0.31679386, 0.26418453]],\n",
       "\n",
       "       [[0.21066611, 0.1980506 , 0.42835492],\n",
       "        [0.5536143 , 0.46657796, 0.28301309],\n",
       "        [0.87671373, 0.51035226, 0.64404001]],\n",
       "\n",
       "       [[0.03494311, 0.03566209, 0.21310827],\n",
       "        [0.57811666, 0.06603972, 0.04293333],\n",
       "        [0.74517291, 0.82049682, 0.9353534 ]],\n",
       "\n",
       "       [[0.33439574, 0.60112525, 0.24938939],\n",
       "        [0.65855494, 0.27221872, 0.61776334],\n",
       "        [0.59571671, 0.30456317, 0.26778365]]])"
      ]
     },
     "execution_count": 160,
     "metadata": {},
     "output_type": "execute_result"
    }
   ],
   "source": [
    "b=np.random.rand(5,3,3)\n",
    "b"
   ]
  },
  {
   "cell_type": "code",
   "execution_count": 159,
   "id": "4f38ab39",
   "metadata": {},
   "outputs": [
    {
     "data": {
      "text/plain": [
       "array([ 2.06325516, -0.2439874 , -0.61878734,  1.11814691,  1.47883049])"
      ]
     },
     "execution_count": 159,
     "metadata": {},
     "output_type": "execute_result"
    }
   ],
   "source": [
    "c=np.random.randn(5)\n",
    "c"
   ]
  },
  {
   "cell_type": "code",
   "execution_count": 157,
   "id": "5f164ec5",
   "metadata": {},
   "outputs": [
    {
     "data": {
      "text/plain": [
       "array([[0.90914523, 0.23464816, 0.1229855 , 0.46701189, 0.37811598],\n",
       "       [0.54165265, 0.15806843, 0.2152441 , 0.20056355, 0.1830719 ],\n",
       "       [0.18414922, 0.74752734, 0.44161113, 0.1286523 , 0.17722792]])"
      ]
     },
     "execution_count": 157,
     "metadata": {},
     "output_type": "execute_result"
    }
   ],
   "source": [
    "d=np.random.rand(3,5)\n",
    "d"
   ]
  },
  {
   "cell_type": "code",
   "execution_count": 158,
   "id": "e6fdbf5e",
   "metadata": {},
   "outputs": [
    {
     "data": {
      "text/plain": [
       "array([47,  0, 17, 14, 17, 31, 15, 25, 34, 11, 26, 15, 42,  1, 27, 13,  8,\n",
       "       47, 12,  0])"
      ]
     },
     "execution_count": 158,
     "metadata": {},
     "output_type": "execute_result"
    }
   ],
   "source": [
    "e=np.random.randint(0,50,20) #0=start, 50=stop, 20=size, randit doesnt have step like in other cases.it deals with intiger and not float\n",
    "e"
   ]
  },
  {
   "cell_type": "code",
   "execution_count": 148,
   "id": "8374e5c8",
   "metadata": {},
   "outputs": [
    {
     "data": {
      "text/plain": [
       "array([[24, 31, 34, 39, 19],\n",
       "       [27, 22, 45, 30,  3],\n",
       "       [42, 19, 32, 30, 33],\n",
       "       [34,  1, 38, 12,  7]])"
      ]
     },
     "execution_count": 148,
     "metadata": {},
     "output_type": "execute_result"
    }
   ],
   "source": [
    "e.reshape(4,5)\n"
   ]
  },
  {
   "cell_type": "code",
   "execution_count": 149,
   "id": "a9f06ad4",
   "metadata": {},
   "outputs": [
    {
     "data": {
      "text/plain": [
       "45"
      ]
     },
     "execution_count": 149,
     "metadata": {},
     "output_type": "execute_result"
    }
   ],
   "source": [
    "e.max()"
   ]
  },
  {
   "cell_type": "code",
   "execution_count": 150,
   "id": "685489de",
   "metadata": {},
   "outputs": [
    {
     "data": {
      "text/plain": [
       "1"
      ]
     },
     "execution_count": 150,
     "metadata": {},
     "output_type": "execute_result"
    }
   ],
   "source": [
    "e.min()"
   ]
  },
  {
   "cell_type": "code",
   "execution_count": 151,
   "id": "a2f3117c",
   "metadata": {},
   "outputs": [
    {
     "data": {
      "text/plain": [
       "7"
      ]
     },
     "execution_count": 151,
     "metadata": {},
     "output_type": "execute_result"
    }
   ],
   "source": [
    "e.argmax()"
   ]
  },
  {
   "cell_type": "code",
   "execution_count": 152,
   "id": "2018b98c",
   "metadata": {},
   "outputs": [
    {
     "data": {
      "text/plain": [
       "16"
      ]
     },
     "execution_count": 152,
     "metadata": {},
     "output_type": "execute_result"
    }
   ],
   "source": [
    "e.argmin()"
   ]
  },
  {
   "cell_type": "code",
   "execution_count": null,
   "id": "1d97a7c7",
   "metadata": {},
   "outputs": [],
   "source": []
  }
 ],
 "metadata": {
  "kernelspec": {
   "display_name": "Python 3 (ipykernel)",
   "language": "python",
   "name": "python3"
  },
  "language_info": {
   "codemirror_mode": {
    "name": "ipython",
    "version": 3
   },
   "file_extension": ".py",
   "mimetype": "text/x-python",
   "name": "python",
   "nbconvert_exporter": "python",
   "pygments_lexer": "ipython3",
   "version": "3.9.12"
  }
 },
 "nbformat": 4,
 "nbformat_minor": 5
}
