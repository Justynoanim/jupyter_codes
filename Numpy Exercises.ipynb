{
 "cells": [
  {
   "cell_type": "code",
   "execution_count": 3,
   "id": "84fb9ee4",
   "metadata": {},
   "outputs": [],
   "source": [
    "import numpy as np"
   ]
  },
  {
   "cell_type": "code",
   "execution_count": 2,
   "id": "7c44484a",
   "metadata": {},
   "outputs": [],
   "source": [
    "#Creating an array of 10 zeros"
   ]
  },
  {
   "cell_type": "code",
   "execution_count": 3,
   "id": "d5ba1824",
   "metadata": {},
   "outputs": [
    {
     "data": {
      "text/plain": [
       "array([0., 0., 0., 0., 0., 0., 0., 0., 0., 0.])"
      ]
     },
     "execution_count": 3,
     "metadata": {},
     "output_type": "execute_result"
    }
   ],
   "source": [
    "a=np.zeros(10)\n",
    "a"
   ]
  },
  {
   "cell_type": "code",
   "execution_count": 4,
   "id": "d2fafdd8",
   "metadata": {},
   "outputs": [],
   "source": [
    "#creating an array of 10 ones"
   ]
  },
  {
   "cell_type": "code",
   "execution_count": 5,
   "id": "2e5dd2c7",
   "metadata": {},
   "outputs": [
    {
     "data": {
      "text/plain": [
       "array([1., 1., 1., 1., 1., 1., 1., 1., 1., 1.])"
      ]
     },
     "execution_count": 5,
     "metadata": {},
     "output_type": "execute_result"
    }
   ],
   "source": [
    "b=np.ones(10)\n",
    "b"
   ]
  },
  {
   "cell_type": "code",
   "execution_count": 6,
   "id": "1bb33b97",
   "metadata": {},
   "outputs": [],
   "source": [
    "#creating an array of 10 fives"
   ]
  },
  {
   "cell_type": "code",
   "execution_count": 10,
   "id": "22387d04",
   "metadata": {},
   "outputs": [
    {
     "data": {
      "text/plain": [
       "array([5., 5., 5., 5., 5., 5., 5., 5., 5., 5.])"
      ]
     },
     "execution_count": 10,
     "metadata": {},
     "output_type": "execute_result"
    }
   ],
   "source": [
    "c=np.zeros(10) +5\n",
    "c"
   ]
  },
  {
   "cell_type": "code",
   "execution_count": 11,
   "id": "3e97c226",
   "metadata": {},
   "outputs": [],
   "source": [
    "#creating an array of intiger from 10 to 50"
   ]
  },
  {
   "cell_type": "code",
   "execution_count": 12,
   "id": "e5d521d4",
   "metadata": {},
   "outputs": [
    {
     "data": {
      "text/plain": [
       "array([10, 11, 12, 13, 14, 15, 16, 17, 18, 19, 20, 21, 22, 23, 24, 25, 26,\n",
       "       27, 28, 29, 30, 31, 32, 33, 34, 35, 36, 37, 38, 39, 40, 41, 42, 43,\n",
       "       44, 45, 46, 47, 48, 49, 50])"
      ]
     },
     "execution_count": 12,
     "metadata": {},
     "output_type": "execute_result"
    }
   ],
   "source": [
    "d=np.arange(10,51)\n",
    "d"
   ]
  },
  {
   "cell_type": "code",
   "execution_count": 13,
   "id": "90b3f2e8",
   "metadata": {},
   "outputs": [],
   "source": [
    "#creating an array of even intiger between 10 and 50"
   ]
  },
  {
   "cell_type": "code",
   "execution_count": 17,
   "id": "d0deca03",
   "metadata": {},
   "outputs": [
    {
     "data": {
      "text/plain": [
       "array([10, 12, 14, 16, 18, 20, 22, 24, 26, 28, 30, 32, 34, 36, 38, 40, 42,\n",
       "       44, 46, 48, 50])"
      ]
     },
     "execution_count": 17,
     "metadata": {},
     "output_type": "execute_result"
    }
   ],
   "source": [
    "e=np.arange(10,51,2)\n",
    "e"
   ]
  },
  {
   "cell_type": "code",
   "execution_count": 19,
   "id": "956e3077",
   "metadata": {},
   "outputs": [
    {
     "name": "stdout",
     "output_type": "stream",
     "text": [
      "(array([ 0,  2,  4,  6,  8, 10, 12, 14, 16, 18, 20, 22, 24, 26, 28, 30, 32,\n",
      "       34, 36, 38], dtype=int64),)\n"
     ]
    }
   ],
   "source": [
    "e=np.arange(10,50)\n",
    "f=np.where(e%2==0)\n",
    "print(f)"
   ]
  },
  {
   "cell_type": "code",
   "execution_count": 15,
   "id": "44ee15c9",
   "metadata": {},
   "outputs": [
    {
     "data": {
      "text/plain": [
       "array([11, 13, 15, 17, 19, 21, 23, 25, 27, 29, 31, 33, 35, 37, 39, 41, 43,\n",
       "       45, 47, 49, 51])"
      ]
     },
     "execution_count": 15,
     "metadata": {},
     "output_type": "execute_result"
    }
   ],
   "source": [
    "e=np.arange(10,51,2) +1\n",
    "e"
   ]
  },
  {
   "cell_type": "code",
   "execution_count": null,
   "id": "0ee93825",
   "metadata": {},
   "outputs": [],
   "source": [
    "#creating a 3 x3 matrix with values ranging fro 0 to 8"
   ]
  },
  {
   "cell_type": "code",
   "execution_count": 21,
   "id": "b9e3f99b",
   "metadata": {},
   "outputs": [
    {
     "data": {
      "text/plain": [
       "array([[0, 1, 2],\n",
       "       [3, 4, 5],\n",
       "       [6, 7, 8]])"
      ]
     },
     "execution_count": 21,
     "metadata": {},
     "output_type": "execute_result"
    }
   ],
   "source": [
    "g=np.arange(0,9).reshape(3,3)\n",
    "g"
   ]
  },
  {
   "cell_type": "code",
   "execution_count": null,
   "id": "2dd62300",
   "metadata": {},
   "outputs": [],
   "source": [
    "#creating a 3 x3 identity matrix"
   ]
  },
  {
   "cell_type": "code",
   "execution_count": 22,
   "id": "910ba4bb",
   "metadata": {},
   "outputs": [
    {
     "name": "stdout",
     "output_type": "stream",
     "text": [
      "[[1. 0. 0.]\n",
      " [0. 1. 0.]\n",
      " [0. 0. 1.]]\n"
     ]
    }
   ],
   "source": [
    "h=np.eye(3)\n",
    "print(h)"
   ]
  },
  {
   "cell_type": "code",
   "execution_count": 23,
   "id": "7df6fd91",
   "metadata": {},
   "outputs": [],
   "source": [
    "#Use numpy to generate random number between 0 and 1"
   ]
  },
  {
   "cell_type": "code",
   "execution_count": 103,
   "id": "34cc84e5",
   "metadata": {},
   "outputs": [
    {
     "data": {
      "text/plain": [
       "-1.0271895727437461"
      ]
     },
     "execution_count": 103,
     "metadata": {},
     "output_type": "execute_result"
    }
   ],
   "source": [
    "np.random.normal(0,1)"
   ]
  },
  {
   "cell_type": "code",
   "execution_count": 39,
   "id": "da165237",
   "metadata": {},
   "outputs": [
    {
     "data": {
      "text/plain": [
       "0.016485762183804598"
      ]
     },
     "execution_count": 39,
     "metadata": {},
     "output_type": "execute_result"
    }
   ],
   "source": [
    "i=np.random.rand()\n",
    "i"
   ]
  },
  {
   "cell_type": "code",
   "execution_count": 40,
   "id": "1125b9b3",
   "metadata": {},
   "outputs": [
    {
     "data": {
      "text/plain": [
       "array([0.29561593, 0.98339673, 0.85845128, 0.9701469 , 0.41205237,\n",
       "       0.65033377, 0.86029051, 0.63117381, 0.19344727, 0.09971932,\n",
       "       0.37121528, 0.55555444, 0.43573859, 0.02857127, 0.96461213,\n",
       "       0.02957502, 0.9435428 , 0.22258133, 0.56161442, 0.69088208,\n",
       "       0.06961869, 0.32521661, 0.16064122, 0.91027699, 0.43049349])"
      ]
     },
     "execution_count": 40,
     "metadata": {},
     "output_type": "execute_result"
    }
   ],
   "source": [
    "np.random.rand(25)"
   ]
  },
  {
   "cell_type": "code",
   "execution_count": null,
   "id": "88df9887",
   "metadata": {},
   "outputs": [],
   "source": [
    "# creating "
   ]
  },
  {
   "cell_type": "code",
   "execution_count": 49,
   "id": "53259de6",
   "metadata": {},
   "outputs": [
    {
     "data": {
      "text/plain": [
       "array([[0.01, 0.02, 0.03, 0.04, 0.05, 0.06, 0.07, 0.08, 0.09, 0.1 ],\n",
       "       [0.11, 0.12, 0.13, 0.14, 0.15, 0.16, 0.17, 0.18, 0.19, 0.2 ],\n",
       "       [0.21, 0.22, 0.23, 0.24, 0.25, 0.26, 0.27, 0.28, 0.29, 0.3 ],\n",
       "       [0.31, 0.32, 0.33, 0.34, 0.35, 0.36, 0.37, 0.38, 0.39, 0.4 ],\n",
       "       [0.41, 0.42, 0.43, 0.44, 0.45, 0.46, 0.47, 0.48, 0.49, 0.5 ],\n",
       "       [0.51, 0.52, 0.53, 0.54, 0.55, 0.56, 0.57, 0.58, 0.59, 0.6 ],\n",
       "       [0.61, 0.62, 0.63, 0.64, 0.65, 0.66, 0.67, 0.68, 0.69, 0.7 ],\n",
       "       [0.71, 0.72, 0.73, 0.74, 0.75, 0.76, 0.77, 0.78, 0.79, 0.8 ],\n",
       "       [0.81, 0.82, 0.83, 0.84, 0.85, 0.86, 0.87, 0.88, 0.89, 0.9 ],\n",
       "       [0.91, 0.92, 0.93, 0.94, 0.95, 0.96, 0.97, 0.98, 0.99, 1.  ]])"
      ]
     },
     "execution_count": 49,
     "metadata": {},
     "output_type": "execute_result"
    }
   ],
   "source": [
    "np.linspace(0.01,1,100).reshape(10,10)"
   ]
  },
  {
   "cell_type": "code",
   "execution_count": null,
   "id": "1263e5b4",
   "metadata": {},
   "outputs": [],
   "source": [
    "#creating an array of 20 linearly spaced points btw 0 and 1"
   ]
  },
  {
   "cell_type": "code",
   "execution_count": 51,
   "id": "f4e0a391",
   "metadata": {},
   "outputs": [
    {
     "data": {
      "text/plain": [
       "array([0.        , 0.05263158, 0.10526316, 0.15789474, 0.21052632,\n",
       "       0.26315789, 0.31578947, 0.36842105, 0.42105263, 0.47368421,\n",
       "       0.52631579, 0.57894737, 0.63157895, 0.68421053, 0.73684211,\n",
       "       0.78947368, 0.84210526, 0.89473684, 0.94736842, 1.        ])"
      ]
     },
     "execution_count": 51,
     "metadata": {},
     "output_type": "execute_result"
    }
   ],
   "source": [
    "a=np.linspace(0,1,20)\n",
    "a"
   ]
  },
  {
   "cell_type": "code",
   "execution_count": 52,
   "id": "f8223494",
   "metadata": {},
   "outputs": [],
   "source": [
    "#Numpy indexing and Selection"
   ]
  },
  {
   "cell_type": "code",
   "execution_count": 4,
   "id": "2b15daec",
   "metadata": {},
   "outputs": [
    {
     "data": {
      "text/plain": [
       "array([[ 1,  2,  3,  4,  5],\n",
       "       [ 6,  7,  8,  9, 10],\n",
       "       [11, 12, 13, 14, 15],\n",
       "       [16, 17, 18, 19, 20],\n",
       "       [21, 22, 23, 24, 25]])"
      ]
     },
     "execution_count": 4,
     "metadata": {},
     "output_type": "execute_result"
    }
   ],
   "source": [
    "k=np.arange(1,26).reshape(5,5)\n",
    "k"
   ]
  },
  {
   "cell_type": "code",
   "execution_count": 11,
   "id": "a71736b5",
   "metadata": {},
   "outputs": [
    {
     "data": {
      "text/plain": [
       "array([[ 2],\n",
       "       [ 7],\n",
       "       [12]])"
      ]
     },
     "execution_count": 11,
     "metadata": {},
     "output_type": "execute_result"
    }
   ],
   "source": [
    "k[0:3,1:2]"
   ]
  },
  {
   "cell_type": "code",
   "execution_count": 67,
   "id": "ee98f9cf",
   "metadata": {},
   "outputs": [
    {
     "data": {
      "text/plain": [
       "array([[12, 13, 14, 15],\n",
       "       [17, 18, 19, 20],\n",
       "       [22, 23, 24, 25]])"
      ]
     },
     "execution_count": 67,
     "metadata": {},
     "output_type": "execute_result"
    }
   ],
   "source": [
    "k[2:][:,1:]"
   ]
  },
  {
   "cell_type": "code",
   "execution_count": 71,
   "id": "5b544020",
   "metadata": {},
   "outputs": [
    {
     "data": {
      "text/plain": [
       "20"
      ]
     },
     "execution_count": 71,
     "metadata": {},
     "output_type": "execute_result"
    }
   ],
   "source": [
    "k[3][4]"
   ]
  },
  {
   "cell_type": "code",
   "execution_count": 83,
   "id": "06e262e5",
   "metadata": {},
   "outputs": [
    {
     "data": {
      "text/plain": [
       "array([ 2,  7, 12])"
      ]
     },
     "execution_count": 83,
     "metadata": {},
     "output_type": "execute_result"
    }
   ],
   "source": [
    "k[:3][:,1]"
   ]
  },
  {
   "cell_type": "code",
   "execution_count": 87,
   "id": "58279ab6",
   "metadata": {},
   "outputs": [
    {
     "data": {
      "text/plain": [
       "array([[16, 17, 18, 19, 20],\n",
       "       [21, 22, 23, 24, 25]])"
      ]
     },
     "execution_count": 87,
     "metadata": {},
     "output_type": "execute_result"
    }
   ],
   "source": [
    "k[3:]"
   ]
  },
  {
   "cell_type": "code",
   "execution_count": null,
   "id": "06b564fd",
   "metadata": {},
   "outputs": [],
   "source": [
    "#Calculating the sum of Array"
   ]
  },
  {
   "cell_type": "code",
   "execution_count": 88,
   "id": "63c32fe1",
   "metadata": {},
   "outputs": [
    {
     "data": {
      "text/plain": [
       "325"
      ]
     },
     "execution_count": 88,
     "metadata": {},
     "output_type": "execute_result"
    }
   ],
   "source": [
    "k.sum()"
   ]
  },
  {
   "cell_type": "code",
   "execution_count": null,
   "id": "cffd4de5",
   "metadata": {},
   "outputs": [],
   "source": [
    "#Calculating the sum of a column"
   ]
  },
  {
   "cell_type": "code",
   "execution_count": 90,
   "id": "c6e7dca5",
   "metadata": {},
   "outputs": [
    {
     "data": {
      "text/plain": [
       "array([55, 60, 65, 70, 75])"
      ]
     },
     "execution_count": 90,
     "metadata": {},
     "output_type": "execute_result"
    }
   ],
   "source": [
    "k.sum(axis=0) #column"
   ]
  },
  {
   "cell_type": "code",
   "execution_count": 91,
   "id": "bca67562",
   "metadata": {},
   "outputs": [
    {
     "data": {
      "text/plain": [
       "array([ 15,  40,  65,  90, 115])"
      ]
     },
     "execution_count": 91,
     "metadata": {},
     "output_type": "execute_result"
    }
   ],
   "source": [
    "k.sum(axis=1) #Row"
   ]
  },
  {
   "cell_type": "code",
   "execution_count": null,
   "id": "933f2869",
   "metadata": {},
   "outputs": [],
   "source": [
    "#Calculating the standard deviation"
   ]
  },
  {
   "cell_type": "code",
   "execution_count": 89,
   "id": "70d6764d",
   "metadata": {},
   "outputs": [
    {
     "data": {
      "text/plain": [
       "7.211102550927978"
      ]
     },
     "execution_count": 89,
     "metadata": {},
     "output_type": "execute_result"
    }
   ],
   "source": [
    "k.std()"
   ]
  },
  {
   "cell_type": "code",
   "execution_count": 7,
   "id": "1a914786",
   "metadata": {},
   "outputs": [
    {
     "name": "stdout",
     "output_type": "stream",
     "text": [
      "[77]\n"
     ]
    }
   ],
   "source": [
    "import numpy as np\n",
    "\n",
    "a = np.array([66,77,21,18,19,7,3,1])\n",
    "print(a[1:5:4])\n"
   ]
  },
  {
   "cell_type": "code",
   "execution_count": 9,
   "id": "1632bcf8",
   "metadata": {},
   "outputs": [
    {
     "name": "stdout",
     "output_type": "stream",
     "text": [
      "[1, 2, 3, 4, 5, 6, 7, 8, 9]\n"
     ]
    }
   ],
   "source": [
    "a = []\n",
    "for i in range(1,10):\n",
    "    a.append(i)\n",
    "print(a)"
   ]
  },
  {
   "cell_type": "code",
   "execution_count": 11,
   "id": "c95a936f",
   "metadata": {},
   "outputs": [
    {
     "name": "stdout",
     "output_type": "stream",
     "text": [
      "[2, 3, 4, 5, 6, 7]\n"
     ]
    }
   ],
   "source": [
    "print(a[1:7])"
   ]
  },
  {
   "cell_type": "code",
   "execution_count": null,
   "id": "9230fb1d",
   "metadata": {},
   "outputs": [],
   "source": []
  }
 ],
 "metadata": {
  "kernelspec": {
   "display_name": "Python 3 (ipykernel)",
   "language": "python",
   "name": "python3"
  },
  "language_info": {
   "codemirror_mode": {
    "name": "ipython",
    "version": 3
   },
   "file_extension": ".py",
   "mimetype": "text/x-python",
   "name": "python",
   "nbconvert_exporter": "python",
   "pygments_lexer": "ipython3",
   "version": "3.9.12"
  }
 },
 "nbformat": 4,
 "nbformat_minor": 5
}
